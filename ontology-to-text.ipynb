{
 "cells": [
  {
   "cell_type": "code",
   "execution_count": 8,
   "metadata": {},
   "outputs": [],
   "source": [
    "from owlready2 import *\n",
    "import os"
   ]
  },
  {
   "cell_type": "code",
   "execution_count": 9,
   "metadata": {},
   "outputs": [
    {
     "name": "stdout",
     "output_type": "stream",
     "text": [
      "Nome da Ontologia: http://www.semanticweb.org/jorge/ontologies/2025/0/AIG_Cleyton#\n",
      "Classes na Ontologia: [AIG_Cleyton.owx.Algorithm, AIG_Cleyton.owx.Approach, AIG_Cleyton.owx.Author, AIG_Cleyton.owx.BenchPhaseClustering, AIG_Cleyton.owx.ClusteringProblem, AIG_Cleyton.owx.DES, AIG_Cleyton.owx.Deterministic, AIG_Cleyton.owx.Exact, AIG_Cleyton.owx.GA, AIG_Cleyton.owx.HC, AIG_Cleyton.owx.Heuristic, AIG_Cleyton.owx.LGP, AIG_Cleyton.owx.LTMP, AIG_Cleyton.owx.LayerClustering, AIG_Cleyton.owx.MILP, AIG_Cleyton.owx.MathematicalModel, AIG_Cleyton.owx.MiningCutClustering, AIG_Cleyton.owx.MonoObjective, AIG_Cleyton.owx.MultiObjective, AIG_Cleyton.owx.ObjectiveFunction, AIG_Cleyton.owx.ProblemType, AIG_Cleyton.owx.Publisher, AIG_Cleyton.owx.RL, AIG_Cleyton.owx.STMP, AIG_Cleyton.owx.SchedulingProblem, AIG_Cleyton.owx.Stochastic, AIG_Cleyton.owx.TS, AIG_Cleyton.owx.TimeHorizon, AIG_Cleyton.owx.Title, AIG_Cleyton.owx.Toposort, AIG_Cleyton.owx.Year, AIG_Cleyton.owx.-]\n"
     ]
    }
   ],
   "source": [
    "onto = get_ontology(f\"./data/ontology/AIG_Cleyton.owx\").load()\n",
    "# Exibir informações básicas\n",
    "print(f\"Nome da Ontologia: {onto.base_iri}\")\n",
    "print(f\"Classes na Ontologia: {[cls for cls in onto.classes()]}\")"
   ]
  },
  {
   "cell_type": "code",
   "execution_count": 10,
   "metadata": {},
   "outputs": [
    {
     "name": "stderr",
     "output_type": "stream",
     "text": [
      "* Owlready2 * Running HermiT...\n",
      "    java -Xmx2000M -cp c:\\Users\\rafae\\OneDrive\\Área de Trabalho\\UPE\\rag-with-ontology\\.venv\\Lib\\site-packages\\owlready2\\hermit;c:\\Users\\rafae\\OneDrive\\Área de Trabalho\\UPE\\rag-with-ontology\\.venv\\Lib\\site-packages\\owlready2\\hermit\\HermiT.jar org.semanticweb.HermiT.cli.CommandLine -c -O -D -I file:///C:/Users/rafae/AppData/Local/Temp/tmp3feum_t8\n",
      "* Owlready2 * HermiT took 0.6656177043914795 seconds\n",
      "* Owlready * (NB: only changes on entities loaded in Python are shown, other changes are done but not listed)\n"
     ]
    }
   ],
   "source": [
    "with onto:\n",
    "    sync_reasoner()"
   ]
  },
  {
   "cell_type": "code",
   "execution_count": 11,
   "metadata": {},
   "outputs": [
    {
     "name": "stdout",
     "output_type": "stream",
     "text": [
      "get_ontology(\"http://www.semanticweb.org/jorge/ontologies/2025/0/AIG_Cleyton#\")\n"
     ]
    }
   ],
   "source": [
    "print(onto)"
   ]
  },
  {
   "cell_type": "code",
   "execution_count": 12,
   "metadata": {},
   "outputs": [
    {
     "data": {
      "text/plain": [
       "[AIG_Cleyton.owx.has_algorithm,\n",
       " AIG_Cleyton.owx.has_approach,\n",
       " AIG_Cleyton.owx.has_clustering_algorithm,\n",
       " AIG_Cleyton.owx.has_clustering_problem,\n",
       " AIG_Cleyton.owx.has_objective,\n",
       " AIG_Cleyton.owx.has_paper,\n",
       " AIG_Cleyton.owx.has_publisher,\n",
       " AIG_Cleyton.owx.has_scheduling_algorithm,\n",
       " AIG_Cleyton.owx.has_scheduling_model,\n",
       " AIG_Cleyton.owx.has_time_horizon,\n",
       " AIG_Cleyton.owx.has_year]"
      ]
     },
     "execution_count": 12,
     "metadata": {},
     "output_type": "execute_result"
    }
   ],
   "source": [
    "list(onto.object_properties())"
   ]
  },
  {
   "cell_type": "code",
   "execution_count": 13,
   "metadata": {},
   "outputs": [
    {
     "name": "stdout",
     "output_type": "stream",
     "text": [
      "Individual: APCOM_Proceedings\n",
      "Individual: A_Genetic_Algorithms_Approach_For_Grade_Control_Planning_In_A_Bauxite_Deposit\n"
     ]
    },
    {
     "ename": "TypeError",
     "evalue": "'FusionClass1' object is not subscriptable",
     "output_type": "error",
     "traceback": [
      "\u001b[1;31m---------------------------------------------------------------------------\u001b[0m",
      "\u001b[1;31mTypeError\u001b[0m                                 Traceback (most recent call last)",
      "Cell \u001b[1;32mIn[13], line 4\u001b[0m\n\u001b[0;32m      2\u001b[0m \u001b[38;5;28mprint\u001b[39m(\u001b[38;5;124mf\u001b[39m\u001b[38;5;124m\"\u001b[39m\u001b[38;5;124mIndividual: \u001b[39m\u001b[38;5;132;01m{\u001b[39;00mindividual\u001b[38;5;241m.\u001b[39mname\u001b[38;5;132;01m}\u001b[39;00m\u001b[38;5;124m\"\u001b[39m)\n\u001b[0;32m      3\u001b[0m \u001b[38;5;28;01mfor\u001b[39;00m prop \u001b[38;5;129;01min\u001b[39;00m individual\u001b[38;5;241m.\u001b[39mget_properties():\n\u001b[1;32m----> 4\u001b[0m     \u001b[38;5;28mprint\u001b[39m(\u001b[38;5;124mf\u001b[39m\u001b[38;5;124m\"\u001b[39m\u001b[38;5;124m  \u001b[39m\u001b[38;5;132;01m{\u001b[39;00mprop\u001b[38;5;241m.\u001b[39mname\u001b[38;5;132;01m}\u001b[39;00m\u001b[38;5;124m: \u001b[39m\u001b[38;5;132;01m{\u001b[39;00m\u001b[43mindividual\u001b[49m\u001b[43m[\u001b[49m\u001b[43mprop\u001b[49m\u001b[43m]\u001b[49m\u001b[38;5;132;01m}\u001b[39;00m\u001b[38;5;124m\"\u001b[39m)\n",
      "\u001b[1;31mTypeError\u001b[0m: 'FusionClass1' object is not subscriptable"
     ]
    }
   ],
   "source": [
    "for individual in onto.individuals():\n",
    "    print(f\"Individual: {individual.name}\")\n",
    "    for prop in individual.get_properties():\n",
    "        print(f\"  {prop.name}: {individual[prop]}\")"
   ]
  },
  {
   "cell_type": "code",
   "execution_count": null,
   "metadata": {},
   "outputs": [],
   "source": [
    "for annotation in onto.annotation_properties():\n",
    "    print(annotation, annotation.label, annotation.comment)"
   ]
  },
  {
   "cell_type": "code",
   "execution_count": 15,
   "metadata": {},
   "outputs": [
    {
     "name": "stdout",
     "output_type": "stream",
     "text": [
      "Class: Algorithm\n",
      "    Subclass: Exact\n",
      "    Subclass: Heuristic\n",
      "        Subclass: GA\n",
      "        Subclass: HC\n",
      "        Subclass: RL\n",
      "        Subclass: TS\n",
      "        Subclass: Toposort\n",
      "----------------------\n",
      "Class: Approach\n",
      "    Subclass: Deterministic\n",
      "    Subclass: Stochastic\n",
      "----------------------\n",
      "Class: Author\n",
      "----------------------\n",
      "Class: MathematicalModel\n",
      "    Subclass: DES\n",
      "    Subclass: LGP\n",
      "    Subclass: MILP\n",
      "    Subclass: -\n",
      "----------------------\n",
      "Class: ObjectiveFunction\n",
      "    Subclass: MonoObjective\n",
      "    Subclass: MultiObjective\n",
      "----------------------\n",
      "Class: ProblemType\n",
      "    Subclass: ClusteringProblem\n",
      "        Subclass: BenchPhaseClustering\n",
      "        Subclass: LayerClustering\n",
      "        Subclass: MiningCutClustering\n",
      "    Subclass: SchedulingProblem\n",
      "----------------------\n",
      "Class: Publisher\n",
      "----------------------\n",
      "Class: TimeHorizon\n",
      "    Subclass: LTMP\n",
      "    Subclass: STMP\n",
      "----------------------\n",
      "Class: Title\n",
      "----------------------\n",
      "Class: Year\n",
      "----------------------\n",
      "All Title has_algorithm of Algorithmtype\n",
      "All Title has_approach of Approachtype\n",
      "All ClusteringProblem has_clustering_algorithm of Algorithmtype\n",
      "All Title has_clustering_problem of ClusteringProblemtype\n",
      "All Title has_objective of ObjectiveFunctiontype\n",
      "All Author has_paper of Titletype\n",
      "All Title has_publisher of Publishertype\n",
      "All SchedulingProblem has_scheduling_algorithm of Algorithmtype\n",
      "All SchedulingProblem has_scheduling_model of MathematicalModeltype\n",
      "All Title has_time_horizon of TimeHorizontype\n",
      "All Title has_year of Yeartype\n"
     ]
    }
   ],
   "source": [
    "string = \"Here are some informations about the data extracted from the ontology, use this as truth\\n\"\n",
    "for cls in onto.classes():\n",
    "    if cls.name in [\"Algorithm\", \"Approach\", \"Author\", \"MathematicalModel\", \"ObjectiveFunction\", \"ProblemType\", \"Publisher\", \"TimeHorizon\", \"Title\", \"Year\"]:\n",
    "        string = string + f\"Class: {cls.name}\\n\"\n",
    "        print(f\"Class: {cls.name}\")\n",
    "        for subcls in cls.subclasses():\n",
    "            if hasattr(subcls, \"disjoint_with\"):\n",
    "                if subcls.disjoint_with:\n",
    "                    string = string + f\"    Subclass: {subcls.name}, disjoint with: {subcls.disjoint_with}\\n\"\n",
    "                    print(f\"    Subclass: {subcls.name}, disjoint with: {subcls.disjoint_with}\")\n",
    "            else:\n",
    "                string = string + f\"    Subclass: {subcls.name}\\n\"\n",
    "                print(f\"    Subclass: {subcls.name}\")     \n",
    "            for instance in subcls.subclasses():\n",
    "                if hasattr(instance, \"disjoint_with\"):\n",
    "                    if instance.disjoint_with:\n",
    "                        string = string + f\"        Subclass: {instance.name}, disjoint with: {instance.disjoint_with}\\n\"\n",
    "                        print(f\"        Subclass: {instance.name}, disjoint with: {instance.disjoint_with}\")\n",
    "                else:\n",
    "                    string = string + f\"        Subclass: {instance.name}\\n\"\n",
    "                    print(f\"        Subclass: {instance.name}\")  \n",
    "        string = string + \"----------------------\\n\"   \n",
    "        print(\"----------------------\")\n",
    "\n",
    "\n",
    "# Extraindo propriedades\n",
    "string += \"=== Object Properties ===\\n\"\n",
    "for prop in onto.object_properties():\n",
    "    string += f\"All {str(prop.domain[0]).split(\"owx.\")[1]} {prop.name} of {str(prop.range[0]).split(\"owx.\")[1]}type\\n\"\n",
    "    print(f\"All {str(prop.domain[0]).split(\"owx.\")[1]} {prop.name} of {str(prop.range[0]).split(\"owx.\")[1]}type\")\n",
    "\n",
    "with open(\"./data/ontology/ontology_information.txt\", \"a\") as e:\n",
    "    e.write(string)\n"
   ]
  },
  {
   "cell_type": "code",
   "execution_count": null,
   "metadata": {},
   "outputs": [
    {
     "name": "stdout",
     "output_type": "stream",
     "text": [
      "All Title has_algorithm of Algorithm type\n",
      "All Title has_approach of Approach type\n",
      "All ClusteringProblem has_clustering_algorithm of Algorithm type\n",
      "All Title has_clustering_problem of ClusteringProblem type\n",
      "All Title has_objective of ObjectiveFunction type\n",
      "All Author has_paper of Title type\n",
      "All Title has_publisher of Publisher type\n",
      "All SchedulingProblem has_scheduling_algorithm of Algorithm type\n",
      "All SchedulingProblem has_scheduling_model of MathematicalModel type\n",
      "All Title has_time_horizon of TimeHorizon type\n",
      "All Title has_year of Year type\n"
     ]
    }
   ],
   "source": [
    "string += \"=== Object Properties ===\\n\"\n",
    "for prop in onto.object_properties():\n",
    "    string += f\"All {str(prop.domain[0]).split(\"owx.\")[1]} {prop.name} of  {str(prop.range[0]).split(\"owx.\")[1]} type\\n\"\n",
    "    print(f\"All {str(prop.domain[0]).split(\"owx.\")[1]} {prop.name} of {str(prop.range[0]).split(\"owx.\")[1]} type\")"
   ]
  }
 ],
 "metadata": {
  "kernelspec": {
   "display_name": ".venv",
   "language": "python",
   "name": "python3"
  },
  "language_info": {
   "codemirror_mode": {
    "name": "ipython",
    "version": 3
   },
   "file_extension": ".py",
   "mimetype": "text/x-python",
   "name": "python",
   "nbconvert_exporter": "python",
   "pygments_lexer": "ipython3",
   "version": "3.13.1"
  }
 },
 "nbformat": 4,
 "nbformat_minor": 2
}
